{
 "cells": [
  {
   "cell_type": "code",
   "execution_count": 3,
   "metadata": {},
   "outputs": [
    {
     "name": "stdout",
     "output_type": "stream",
     "text": [
      "ahmetz\n",
      "\n",
      "\n",
      "dkphxc\n"
     ]
    }
   ],
   "source": [
    "k = 3\n",
    "\n",
    "mesaj = \"ahmetz\"\n",
    "\n",
    "alfabe = \"abcdefghijklmnopqrstuwxyz\"\n",
    "\n",
    "boyut = len(alfabe)\n",
    "\n",
    "sifreli_mesaj = \"\"\n",
    "\n",
    "print(mesaj+\"\\n\\n\")\n",
    "\n",
    "for i in mesaj:\n",
    "   for c in alfabe:\n",
    "      if i == c:\n",
    "         konum = alfabe.index(c)\n",
    "         konum += k\n",
    "\n",
    "         sifreli_mesaj += alfabe[konum % boyut]\n",
    "\n",
    "print(sifreli_mesaj)"
   ]
  }
 ],
 "metadata": {
  "kernelspec": {
   "display_name": "Python 3",
   "language": "python",
   "name": "python3"
  },
  "language_info": {
   "codemirror_mode": {
    "name": "ipython",
    "version": 3
   },
   "file_extension": ".py",
   "mimetype": "text/x-python",
   "name": "python",
   "nbconvert_exporter": "python",
   "pygments_lexer": "ipython3",
   "version": "3.11.1"
  },
  "orig_nbformat": 4,
  "vscode": {
   "interpreter": {
    "hash": "318f2c383d48220c821fefd227250c35bb828f95042f5889a5ad1704b1baf79c"
   }
  }
 },
 "nbformat": 4,
 "nbformat_minor": 2
}
